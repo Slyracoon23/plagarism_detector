{
 "cells": [
  {
   "cell_type": "code",
   "execution_count": null,
   "metadata": {},
   "outputs": [],
   "source": [
    "from sklearn.feature_extraction.text import CountVectorizer\n",
    "from sklearn.metrics.pairwise import cosine_similarity\n",
    "\n",
    "import pandas as pd\n"
   ]
  },
  {
   "cell_type": "code",
   "execution_count": null,
   "metadata": {},
   "outputs": [],
   "source": [
    "corpus = [\n",
    "   ('doc_1', 'This is the first document.'),\n",
    "    ('doc_2', 'This document is the second document.'),\n",
    "   ('doc_3' ,'And this is the third one.'),\n",
    "    ('doc_4', 'Is this the first document?')\n",
    "]\n",
    "corpus"
   ]
  },
  {
   "cell_type": "code",
   "execution_count": null,
   "metadata": {},
   "outputs": [],
   "source": [
    "# split to doc_name iterable and doc_data iterable\n",
    "doc_names, doc_data = zip(*corpus)"
   ]
  },
  {
   "cell_type": "code",
   "execution_count": null,
   "metadata": {},
   "outputs": [],
   "source": [
    "# create the class Countvectorizer that converts a collection of text document to a matrix of token counts\n",
    "vectorizer = CountVectorizer()\n",
    "\n",
    "# return a term-document matrix with doc_data as input\n",
    "# X: array, [n_samples, n_featrues]\n",
    "document_term_matrix = vectorizer.fit_transform(doc_data).toarray()\n",
    "\n",
    "# returns full list of tokenized words\n",
    "tokenized_words =  vectorizer.get_feature_names()"
   ]
  },
  {
   "cell_type": "code",
   "execution_count": null,
   "metadata": {},
   "outputs": [],
   "source": [
    "df = pd.DataFrame(data=document_term_matrix, \n",
    "                  columns= tokenized_words, \n",
    "                  index=doc_names)\n",
    "\n",
    "df"
   ]
  },
  {
   "cell_type": "code",
   "execution_count": null,
   "metadata": {},
   "outputs": [],
   "source": [
    "# compute cosine simularity matrix\n",
    "cosine_matrix = cosine_similarity(document_term_matrix)"
   ]
  },
  {
   "cell_type": "code",
   "execution_count": null,
   "metadata": {},
   "outputs": [],
   "source": [
    "df = pd.DataFrame(data=cosine_matrix, \n",
    "                  columns= doc_names, \n",
    "                  index=doc_names)\n",
    "df"
   ]
  }
 ],
 "metadata": {
  "kernelspec": {
   "display_name": "Python 3.8.5 64-bit ('plagarism-detector': conda)",
   "language": "python",
   "name": "python38564bitplagarismdetectorconda89345ebd79a04308b322e8845532663c"
  },
  "language_info": {
   "codemirror_mode": {
    "name": "ipython",
    "version": 3
   },
   "file_extension": ".py",
   "mimetype": "text/x-python",
   "name": "python",
   "nbconvert_exporter": "python",
   "pygments_lexer": "ipython3",
   "version": "3.8.5"
  }
 },
 "nbformat": 4,
 "nbformat_minor": 4
}
